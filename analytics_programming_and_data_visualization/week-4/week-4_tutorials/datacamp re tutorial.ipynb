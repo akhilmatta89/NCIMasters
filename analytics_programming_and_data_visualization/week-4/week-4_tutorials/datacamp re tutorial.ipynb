{
 "cells": [
  {
   "cell_type": "markdown",
   "id": "c590e75a",
   "metadata": {},
   "source": [
    "https://www.datacamp.com/tutorial/python-regular-expression-tutorial"
   ]
  },
  {
   "cell_type": "code",
   "execution_count": 1,
   "id": "efe2e591",
   "metadata": {},
   "outputs": [],
   "source": [
    "import re"
   ]
  },
  {
   "cell_type": "code",
   "execution_count": 4,
   "id": "dbeddb41",
   "metadata": {},
   "outputs": [
    {
     "name": "stdout",
     "output_type": "stream",
     "text": [
      "Match!\n"
     ]
    }
   ],
   "source": [
    "# a raw string literal. It changes how the string literal is interpreted. Such literals are stored as they appear.\n",
    "pattern = r\"Cookie\"\n",
    "sequence = \"Cookie\"\n",
    "\n",
    "if re.match(pattern, sequence):\n",
    "    print(\"Match!\")\n",
    "else: print(\"Not a match!\")"
   ]
  },
  {
   "cell_type": "code",
   "execution_count": 5,
   "id": "cfc0ccf3",
   "metadata": {},
   "outputs": [
    {
     "data": {
      "text/plain": [
       "'Cookie'"
      ]
     },
     "execution_count": 5,
     "metadata": {},
     "output_type": "execute_result"
    }
   ],
   "source": [
    "#. - A period. Matches any single character except the newline character.\n",
    "\n",
    "#the search function, you scan through the given string/sequence, \n",
    "#looking for the first location where the regular expression produces a match.\n",
    "#The group function returns the string matched by the re. You will see both these functions in more detail later.\n",
    "re.search(r'Co.k.e', 'Cookie').group()"
   ]
  },
  {
   "cell_type": "code",
   "execution_count": 6,
   "id": "535e50bd",
   "metadata": {},
   "outputs": [
    {
     "data": {
      "text/plain": [
       "'Eat'"
      ]
     },
     "execution_count": 6,
     "metadata": {},
     "output_type": "execute_result"
    }
   ],
   "source": [
    "#^ - A caret. Matches the start of the string.\n",
    "re.search(r'^Eat', \"Eat cake!\").group()\n",
    "\n",
    "## However, the code below will not give the same result. Try it for yourself:\n",
    "# re.search(r'^eat', \"Let's eat cake!\").group()"
   ]
  },
  {
   "cell_type": "code",
   "execution_count": 7,
   "id": "d51c70dc",
   "metadata": {},
   "outputs": [
    {
     "data": {
      "text/plain": [
       "'cake'"
      ]
     },
     "execution_count": 7,
     "metadata": {},
     "output_type": "execute_result"
    }
   ],
   "source": [
    "#$ - Matches the end of string\n",
    "re.search(r'cake$', \"Cake! Let's eat cake\").group()"
   ]
  },
  {
   "cell_type": "code",
   "execution_count": 8,
   "id": "001cab05",
   "metadata": {},
   "outputs": [
    {
     "data": {
      "text/plain": [
       "'5'"
      ]
     },
     "execution_count": 8,
     "metadata": {},
     "output_type": "execute_result"
    }
   ],
   "source": [
    "#[abc] - Matches a or b or c.\n",
    "#[a-zA-Z0-9] - Matches any letter from (a to z) or (A to Z) or (0 to 9).\n",
    "re.search(r'[0-6]', 'Number: 5').group()"
   ]
  },
  {
   "cell_type": "code",
   "execution_count": 9,
   "id": "ac8ff812",
   "metadata": {},
   "outputs": [
    {
     "data": {
      "text/plain": [
       "'Number: 0'"
      ]
     },
     "execution_count": 9,
     "metadata": {},
     "output_type": "execute_result"
    }
   ],
   "source": [
    "## Matches any character except 5\n",
    "re.search(r'Number: [^5]', 'Number: 0').group()\n",
    "\n",
    "## This will not match and hence a NONE value will be returned\n",
    "#re.search(r'Number: [^5]', 'Number: 5').group()"
   ]
  },
  {
   "cell_type": "code",
   "execution_count": 10,
   "id": "9d66ef54",
   "metadata": {},
   "outputs": [
    {
     "name": "stdout",
     "output_type": "stream",
     "text": [
      "Lowercase w: Cookie\n",
      "Uppercase W: C@ke\n",
      "Uppercase W won't match, and return: None\n"
     ]
    }
   ],
   "source": [
    "#\\w - Lowercase 'w'. Matches any single letter, digit, or underscore.\n",
    "#\\W - Uppercase 'W'. Matches any character not part of \\w (lowercase w).\n",
    "\n",
    "print(\"Lowercase w:\", re.search(r'Co\\wk\\we', 'Cookie').group())\n",
    "\n",
    "## Matches any character except single letter, digit or underscore\n",
    "print(\"Uppercase W:\", re.search(r'C\\Wke', 'C@ke').group())\n",
    "\n",
    "## Uppercase W won't match single letter, digit\n",
    "print(\"Uppercase W won't match, and return:\", re.search(r'Co\\Wk\\We', 'Cookie'))\n"
   ]
  },
  {
   "cell_type": "code",
   "execution_count": 11,
   "id": "30897285",
   "metadata": {},
   "outputs": [
    {
     "name": "stdout",
     "output_type": "stream",
     "text": [
      "Lowercase s: Eat cake\n",
      "Uppercase S: cookie\n"
     ]
    }
   ],
   "source": [
    "#\\s - Lowercase 's'. Matches a single whitespace character like: space, newline, tab, return.\n",
    "#\\S - Uppercase 'S'. Matches any character not part of \\s (lowercase s).\n",
    "print(\"Lowercase s:\", re.search(r'Eat\\scake', 'Eat cake').group())\n",
    "print(\"Uppercase S:\", re.search(r'cook\\Se', \"Let's eat cookie\").group())\n"
   ]
  },
  {
   "cell_type": "code",
   "execution_count": 12,
   "id": "32400c0d",
   "metadata": {},
   "outputs": [
    {
     "name": "stdout",
     "output_type": "stream",
     "text": [
      "How many cookies do you want?  100\n"
     ]
    }
   ],
   "source": [
    "#\\d - Lowercase d. Matches decimal digit 0-9.\n",
    "#\\D - Uppercase d. Matches any character that is not a decimal digit.\n",
    "print(\"How many cookies do you want? \", re.search(r'\\d+', '100 cookies').group())"
   ]
  },
  {
   "cell_type": "code",
   "execution_count": 24,
   "id": "6c9323ce",
   "metadata": {},
   "outputs": [
    {
     "ename": "AttributeError",
     "evalue": "'NoneType' object has no attribute 'group'",
     "output_type": "error",
     "traceback": [
      "\u001b[1;31m---------------------------------------------------------------------------\u001b[0m",
      "\u001b[1;31mAttributeError\u001b[0m                            Traceback (most recent call last)",
      "\u001b[1;32m~\\AppData\\Local\\Temp\\ipykernel_20232\\3503139130.py\u001b[0m in \u001b[0;36m<module>\u001b[1;34m\u001b[0m\n\u001b[0;32m      9\u001b[0m \u001b[1;33m\u001b[0m\u001b[0m\n\u001b[0;32m     10\u001b[0m \u001b[1;31m# Example for \\t\u001b[0m\u001b[1;33m\u001b[0m\u001b[1;33m\u001b[0m\u001b[0m\n\u001b[1;32m---> 11\u001b[1;33m \u001b[0mprint\u001b[0m\u001b[1;33m(\u001b[0m \u001b[0mre\u001b[0m\u001b[1;33m.\u001b[0m\u001b[0msearch\u001b[0m\u001b[1;33m(\u001b[0m\u001b[1;34mr'Eat\\tcake'\u001b[0m\u001b[1;33m,\u001b[0m \u001b[1;34m'Eat     cake'\u001b[0m\u001b[1;33m)\u001b[0m\u001b[1;33m.\u001b[0m\u001b[0mgroup\u001b[0m\u001b[1;33m(\u001b[0m\u001b[1;33m)\u001b[0m\u001b[1;33m)\u001b[0m\u001b[1;33m\u001b[0m\u001b[1;33m\u001b[0m\u001b[0m\n\u001b[0m\u001b[0;32m     12\u001b[0m \u001b[1;33m\u001b[0m\u001b[0m\n\u001b[0;32m     13\u001b[0m \u001b[1;31m#Example for \\b\u001b[0m\u001b[1;33m\u001b[0m\u001b[1;33m\u001b[0m\u001b[0m\n",
      "\u001b[1;31mAttributeError\u001b[0m: 'NoneType' object has no attribute 'group'"
     ]
    }
   ],
   "source": [
    "#\\t - Lowercase t. Matches tab.\n",
    "#\\n - Lowercase n. Matches newline.\n",
    "#\\r - Lowercase r. Matches return\n",
    "#\\A - Uppercase a. Matches only at the start of the string. Works across multiple lines as well.\n",
    "#\\Z - Uppercase z. Matches only at the end of the string.\n",
    "#TIP: ^ and \\A are effectively the same, and so are $ and \\Z. Except when dealing with MULTILINE mode. Learn more about it in the flags section.\n",
    "\n",
    "#\\b - Lowercase b. Matches only the beginning or end of the word.\n",
    "\n",
    "# Example for \\t\n",
    "print( re.search(r'Eat\\tcake', 'Eat     cake').group())\n",
    "\n",
    "#Example for \\b\n",
    "print(re.search(r'\\b[A-E]ookie', 'Cookie').group())"
   ]
  },
  {
   "cell_type": "code",
   "execution_count": 25,
   "id": "5225ffd6",
   "metadata": {},
   "outputs": [
    {
     "data": {
      "text/plain": [
       "'Cooookie'"
      ]
     },
     "execution_count": 25,
     "metadata": {},
     "output_type": "execute_result"
    }
   ],
   "source": [
    "#+ - Checks if the preceding character appears one or more times starting from that\n",
    "re.search(r'Co+kie', 'Cooookie').group()"
   ]
  },
  {
   "cell_type": "code",
   "execution_count": 26,
   "id": "17540602",
   "metadata": {},
   "outputs": [
    {
     "data": {
      "text/plain": [
       "'Cookie'"
      ]
     },
     "execution_count": 26,
     "metadata": {},
     "output_type": "execute_result"
    }
   ],
   "source": [
    "#* - Checks if the preceding character appears zero or more times starting from that position.\n",
    "re.search(r'Ca*o*kie', 'Cookie').group()"
   ]
  },
  {
   "cell_type": "code",
   "execution_count": 27,
   "id": "103664c2",
   "metadata": {},
   "outputs": [
    {
     "data": {
      "text/plain": [
       "'Color'"
      ]
     },
     "execution_count": 27,
     "metadata": {},
     "output_type": "execute_result"
    }
   ],
   "source": [
    "#? - Checks if the preceding character appears exactly zero or one time starting from that position.\n",
    "re.search(r'Colou?r', 'Color').group()"
   ]
  },
  {
   "cell_type": "code",
   "execution_count": 28,
   "id": "f02c929c",
   "metadata": {},
   "outputs": [
    {
     "data": {
      "text/plain": [
       "'0987654321'"
      ]
     },
     "execution_count": 28,
     "metadata": {},
     "output_type": "execute_result"
    }
   ],
   "source": [
    "#{x} - Repeat exactly x number of times.\n",
    "#{x,} - Repeat at least x times or more.\n",
    "#{x, y} - Repeat at least x times but no more than y times.\n",
    "re.search(r'\\d{9,10}', '0987654321').group()"
   ]
  },
  {
   "cell_type": "code",
   "execution_count": 29,
   "id": "87e3dbaf",
   "metadata": {},
   "outputs": [
    {
     "name": "stdout",
     "output_type": "stream",
     "text": [
      "Email address: support@datacamp.com\n",
      "Username: support\n",
      "Host: datacamp.com\n"
     ]
    }
   ],
   "source": [
    "#Parts of a regular expression pattern bounded by parenthesis () are called groups. \n",
    "#The parenthesis does not change what the expression matches, but rather forms groups within the matched sequence\n",
    "\n",
    "statement = 'Please contact us at: support@datacamp.com'\n",
    "match = re.search(r'([\\w\\.-]+)@([\\w\\.-]+)', statement)\n",
    "if statement:\n",
    "  print(\"Email address:\", match.group()) # The whole matched text\n",
    "  print(\"Username:\", match.group(1)) # The username (group 1)\n",
    "  print(\"Host:\", match.group(2)) # The host (group 2"
   ]
  },
  {
   "cell_type": "code",
   "execution_count": 30,
   "id": "0194028c",
   "metadata": {},
   "outputs": [
    {
     "name": "stdout",
     "output_type": "stream",
     "text": [
      "Email address: support@datacamp.com\n",
      "Username: support\n",
      "Host: datacamp.com\n"
     ]
    }
   ],
   "source": [
    "#Another way of doing the same is with the usage of <> brackets instead. \n",
    "#This will let you create named groups. Named groups will make your code more readable. \n",
    "#The syntax for creating named group is: (?P<name>...).\n",
    "#Replace the name part with the name you want to give to your group. \n",
    "#The ... represent the rest of the matching syntax.\n",
    "\n",
    "statement = 'Please contact us at: support@datacamp.com'\n",
    "match = re.search(r'(?P<email>(?P<username>[\\w\\.-]+)@(?P<host>[\\w\\.-]+))', statement)\n",
    "if statement:\n",
    "  print(\"Email address:\", match.group('email'))\n",
    "  print(\"Username:\", match.group('username'))\n",
    "  print(\"Host:\", match.group('host'))"
   ]
  },
  {
   "cell_type": "code",
   "execution_count": 31,
   "id": "8f767c4f",
   "metadata": {},
   "outputs": [
    {
     "data": {
      "text/plain": [
       "'<h1>TITLE</h1>'"
      ]
     },
     "execution_count": 31,
     "metadata": {},
     "output_type": "execute_result"
    }
   ],
   "source": [
    "#Greedy vs. Non-Greedy Matching\n",
    "pattern = \"cookie\"\n",
    "sequence = \"Cake and cookie\"\n",
    "\n",
    "heading  = r'<h1>TITLE</h1>'\n",
    "re.match(r'<.*>', heading).group()"
   ]
  },
  {
   "cell_type": "code",
   "execution_count": 32,
   "id": "4d691d30",
   "metadata": {},
   "outputs": [
    {
     "data": {
      "text/plain": [
       "'<h1>'"
      ]
     },
     "execution_count": 32,
     "metadata": {},
     "output_type": "execute_result"
    }
   ],
   "source": [
    "#Adding ? after the qualifier makes it perform the match in a non-greedy or minimal fashion; \n",
    "#That is, as few characters as possible will be matched.\n",
    "#When you run <.*>, you will only get a match with <h1>.\n",
    "heading  = r'<h1>TITLE</h1>'\n",
    "re.match(r'<.*?>', heading).group()"
   ]
  },
  {
   "cell_type": "code",
   "execution_count": null,
   "id": "480ec5cb",
   "metadata": {},
   "outputs": [],
   "source": []
  }
 ],
 "metadata": {
  "kernelspec": {
   "display_name": "Python 3 (ipykernel)",
   "language": "python",
   "name": "python3"
  },
  "language_info": {
   "codemirror_mode": {
    "name": "ipython",
    "version": 3
   },
   "file_extension": ".py",
   "mimetype": "text/x-python",
   "name": "python",
   "nbconvert_exporter": "python",
   "pygments_lexer": "ipython3",
   "version": "3.9.13"
  }
 },
 "nbformat": 4,
 "nbformat_minor": 5
}
