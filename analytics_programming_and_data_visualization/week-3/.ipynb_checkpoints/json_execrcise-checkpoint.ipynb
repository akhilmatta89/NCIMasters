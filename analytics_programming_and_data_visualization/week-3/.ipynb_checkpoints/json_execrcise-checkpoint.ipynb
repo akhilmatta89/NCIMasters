{
 "cells": [
  {
   "cell_type": "code",
   "execution_count": 7,
   "id": "c90317c8-d7c8-4ad3-9c61-0ba884bd01e3",
   "metadata": {},
   "outputs": [
    {
     "name": "stdout",
     "output_type": "stream",
     "text": [
      "{\"key1\": \"value1\", \"key2\": \"value2\"}\n"
     ]
    }
   ],
   "source": [
    "\n",
    "# 1.\tExercise 1: Convert the following dictionary into JSON format\n",
    "\n",
    "# data = {\"key1\" : \"value1\", \"key2\" : \"value2\"}\n",
    "import json\n",
    "\n",
    "data = {\"key1\": \"value1\", \"key2\": \"value2\"}\n",
    "json_data = json.dumps(data)\n",
    "\n",
    "print(json_data)\n"
   ]
  },
  {
   "cell_type": "code",
   "execution_count": 9,
   "id": "a9f73c44-9728-4cdf-b146-cf438dc4a6bf",
   "metadata": {},
   "outputs": [
    {
     "name": "stdout",
     "output_type": "stream",
     "text": [
      "value2\n"
     ]
    }
   ],
   "source": [
    "# 2.\tExercise 2: Access the value of key2 from the following JSON\n",
    "\n",
    "# import json\n",
    "# sampleJson = \"\"\"{\"key1\": \"value1\", \"key2\": \"value2\"}\"\"\"\n",
    "\n",
    "sampleJson = \"\"\"{\"key1\": \"value1\", \"key2\": \"value2\"}\"\"\"\n",
    "\n",
    "json_data = json.loads(sampleJson)\n",
    "print(json_data.get('key2'))"
   ]
  },
  {
   "cell_type": "code",
   "execution_count": null,
   "id": "d594850d-bc3c-46e3-9652-2cc2a015bc49",
   "metadata": {},
   "outputs": [],
   "source": []
  }
 ],
 "metadata": {
  "kernelspec": {
   "display_name": "Python 3 (ipykernel)",
   "language": "python",
   "name": "python3"
  },
  "language_info": {
   "codemirror_mode": {
    "name": "ipython",
    "version": 3
   },
   "file_extension": ".py",
   "mimetype": "text/x-python",
   "name": "python",
   "nbconvert_exporter": "python",
   "pygments_lexer": "ipython3",
   "version": "3.12.7"
  }
 },
 "nbformat": 4,
 "nbformat_minor": 5
}
