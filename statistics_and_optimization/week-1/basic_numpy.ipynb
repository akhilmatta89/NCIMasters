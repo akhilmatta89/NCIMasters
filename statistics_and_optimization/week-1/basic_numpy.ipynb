{
 "cells": [
  {
   "cell_type": "code",
   "execution_count": 1,
   "id": "5a5fd8eb-335a-4568-b7be-0e57d0c0488b",
   "metadata": {},
   "outputs": [],
   "source": [
    "import numpy as np\n",
    "import pandas as pd"
   ]
  },
  {
   "cell_type": "code",
   "execution_count": 2,
   "id": "d8e6d09d-c543-4273-ad52-da6851e777c0",
   "metadata": {},
   "outputs": [
    {
     "name": "stdout",
     "output_type": "stream",
     "text": [
      "30.0\n"
     ]
    }
   ],
   "source": [
    "df = np.array([10,20,30,40,50])\n",
    "print(df.mean())"
   ]
  },
  {
   "cell_type": "code",
   "execution_count": 3,
   "id": "40bfcec2-1c02-41ad-89ae-7201ad1d0bdd",
   "metadata": {},
   "outputs": [
    {
     "name": "stdout",
     "output_type": "stream",
     "text": [
      "35.0\n"
     ]
    }
   ],
   "source": [
    "df = np.array([10,20,30,40,50,60])\n",
    "print(df.mean())"
   ]
  },
  {
   "cell_type": "code",
   "execution_count": 10,
   "id": "9767c6b9-a976-4f4c-bfba-4ca305dc8595",
   "metadata": {},
   "outputs": [
    {
     "name": "stdout",
     "output_type": "stream",
     "text": [
      "std of arr :  19.643303\n"
     ]
    }
   ],
   "source": [
    "arr = [142,127,171,137,161,183,148,124]\n",
    "\n",
    "print(\"std of arr : \", np.std(arr, dtype = np.float32)) "
   ]
  },
  {
   "cell_type": "code",
   "execution_count": 12,
   "id": "25464f67-b693-4d9f-b361-5bebaa011840",
   "metadata": {},
   "outputs": [
    {
     "data": {
      "text/plain": [
       "149.125"
      ]
     },
     "execution_count": 12,
     "metadata": {},
     "output_type": "execute_result"
    }
   ],
   "source": [
    "np.mean(arr)"
   ]
  },
  {
   "cell_type": "code",
   "execution_count": 24,
   "id": "dd1fe927-f8e8-4371-99a9-6d866c52b47c",
   "metadata": {},
   "outputs": [
    {
     "name": "stdout",
     "output_type": "stream",
     "text": [
      "(132.70278724860316, 165.54721275139684)\n"
     ]
    }
   ],
   "source": [
    "import numpy as np\n",
    "import scipy.stats\n",
    "\n",
    "def mean_confidence_interval(data, confidence=0.95):\n",
    "    a = 1.0 * np.array(data)\n",
    "    n = len(a)\n",
    "    mean = np.mean(a)\n",
    "    std = np.std(data)\n",
    "    alpha = 1-confidence\n",
    "    df = n-1\n",
    "    t_critical = scipy.stats.t.ppf(1-alpha/2,df)\n",
    "    margin_of_error = t_critical * (std/np.sqrt(n))\n",
    "    CI= (mean-margin_of_error, mean+margin_of_error)\n",
    "    return CI\n",
    "\n",
    "print(mean_confidence_interval(arr))"
   ]
  },
  {
   "cell_type": "code",
   "execution_count": 26,
   "id": "df6eb5dd-82b6-46e7-9646-6bae5bb9157c",
   "metadata": {},
   "outputs": [
    {
     "name": "stdout",
     "output_type": "stream",
     "text": [
      "(124.82124045328175, 173.42875954671825)\n"
     ]
    }
   ],
   "source": [
    "arry_2 = [142,127,171,137,161,183,148,124]\n",
    "n = len(arry_2)\n",
    "mean = np.mean(arry_2)\n",
    "std = np.std(arry_2)\n",
    "alpha = 1-0.99\n",
    "df = n-1\n",
    "t_critical = scipy.stats.t.ppf(1-alpha/2,df)\n",
    "MOE = t_critical * (std/np.sqrt(n))\n",
    "CI = (mean-MOE, mean+MOE)\n",
    "print(CI)\n"
   ]
  },
  {
   "cell_type": "code",
   "execution_count": 28,
   "id": "d31ee14d-3537-4ab3-b254-03d17137ce43",
   "metadata": {},
   "outputs": [
    {
     "name": "stdout",
     "output_type": "stream",
     "text": [
      "(10.775983459183337, 29.224016540816663)\n"
     ]
    }
   ],
   "source": [
    "\n",
    "n = 9\n",
    "mean = 20\n",
    "std = 12\n",
    "alpha = 1-0.95\n",
    "df = n-1\n",
    "t_critical = scipy.stats.t.ppf(1-alpha/2,df)\n",
    "MOE = t_critical * (std/np.sqrt(n))\n",
    "CI = (mean-MOE, mean+MOE)\n",
    "print(CI)"
   ]
  },
  {
   "cell_type": "code",
   "execution_count": 32,
   "id": "13da9453-43fc-4d36-af4d-01cfd9a4cb52",
   "metadata": {},
   "outputs": [
    {
     "name": "stdout",
     "output_type": "stream",
     "text": [
      "z-value 11.78511301977596\n"
     ]
    }
   ],
   "source": [
    "\n",
    "              \n"
   ]
  },
  {
   "cell_type": "code",
   "execution_count": null,
   "id": "21ea8070-ac21-4503-a742-a61656f7f139",
   "metadata": {},
   "outputs": [],
   "source": []
  }
 ],
 "metadata": {
  "kernelspec": {
   "display_name": "Python [conda env:base] *",
   "language": "python",
   "name": "conda-base-py"
  },
  "language_info": {
   "codemirror_mode": {
    "name": "ipython",
    "version": 3
   },
   "file_extension": ".py",
   "mimetype": "text/x-python",
   "name": "python",
   "nbconvert_exporter": "python",
   "pygments_lexer": "ipython3",
   "version": "3.12.7"
  }
 },
 "nbformat": 4,
 "nbformat_minor": 5
}
