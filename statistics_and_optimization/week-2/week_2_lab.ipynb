{
 "cells": [
  {
   "cell_type": "code",
   "execution_count": 49,
   "id": "a792aed7-6c67-4882-afb4-3332784c0f34",
   "metadata": {},
   "outputs": [],
   "source": [
    "import numpy as np\n",
    "import pandas as pd\n",
    "from scipy.stats import norm"
   ]
  },
  {
   "cell_type": "raw",
   "id": "92d94ddf-1c40-4cef-9675-e0309c193e91",
   "metadata": {},
   "source": [
    "Question 1\n",
    "\n",
    "Dole Pineapple Inc. is concerned that the 16-ounce can of sliced pineapple is being overfilled. \n",
    "Assume the standard deviation of the process is 0.03 ounces. \n",
    "The quality- control department took a random sample of 50 cans and found that the arithmetic mean weight was 16.05 ounces. \n",
    "At the 5% level of significance, can we conclude that the mean weight is greater than 16 ounces?"
   ]
  },
  {
   "cell_type": "code",
   "execution_count": 50,
   "id": "2ad680ec-a563-4a29-9f6f-92ee465eb723",
   "metadata": {},
   "outputs": [
    {
     "name": "stdout",
     "output_type": "stream",
     "text": [
      "z-value 11.78511301977596\n"
     ]
    }
   ],
   "source": [
    "std = 0.03\n",
    "n = 50\n",
    "sample_weighted_mean = 16.05\n",
    "population_mean = 16\n",
    "significance_level = 0.005\n",
    "z = (16.05-16)/(0.03/np.sqrt(50))\n",
    "print(\"z-value\", z)\n",
    "\n",
    "# we can reject the null hypothesis "
   ]
  },
  {
   "cell_type": "raw",
   "id": "e79c5ae7-02ec-4f5a-8b8d-88eea147c6ca",
   "metadata": {},
   "source": [
    "Question 2 \n",
    "\n",
    "Annual per capita consumption of milk in Ireland is 21.6 gallons. Being from Cork, you believe milk consumption is higher there and wish to support your opinion. A sample of 16 individuals from Cork showed a sample mean annual consumption of 24.1 gallons with a standard deviation of s = 4.8.\n",
    "Develop a hypothesis test that can be used to determine whether the mean annual consumption in Cork is higher than the national mean. At α =0.05, test for a significant difference. What is your conclusion?\n"
   ]
  },
  {
   "cell_type": "code",
   "execution_count": 51,
   "id": "ec46fe27-ffe6-4ac1-984a-b78f6aa985fb",
   "metadata": {},
   "outputs": [
    {
     "name": "stdout",
     "output_type": "stream",
     "text": [
      "21.9964 26.2036\n",
      "we reject null hypothesis\n"
     ]
    }
   ],
   "source": [
    "null_hypothesis = \"mean annual consumption in Cork is less than or equal to the national mean\"\n",
    "alternate_hypothesis = \"mean annual consumption in Cork is greater than the national mean\"\n",
    "\n",
    "# Given values\n",
    "n = 16\n",
    "sample_mean = 24.1\n",
    "population_mean = 21.6\n",
    "std_of_sample_mean = 4.8\n",
    "significance_level = 0.05\n",
    "\n",
    "# Degrees of freedom\n",
    "DOF = n - 1\n",
    "\n",
    "# Given t-score (assuming from t-table for the confidence level)\n",
    "t_score = 1.753\n",
    "\n",
    "# Correct formula for confidence interval bounds\n",
    "upper_bound = sample_mean + t_score * (std_of_sample_mean / np.sqrt(n))\n",
    "lower_bound = sample_mean - t_score * (std_of_sample_mean / np.sqrt(n))\n",
    "\n",
    "print(lower_bound, upper_bound)\n",
    "if upper_bound > sample_mean:\n",
    "    print(\"we reject null hypothesis\")\n",
    "else:\n",
    "    print(\"we accept null hypothesis\")"
   ]
  },
  {
   "cell_type": "raw",
   "id": "e49a9a6f-9f60-4db5-bc9a-309cd5c23a51",
   "metadata": {},
   "source": [
    "Question 3\n",
    "\n",
    "According to a recent survey, Americans get a mean of 7 hours of sleep per night. A ran- dom sample of 50 students at West Virginia University revealed the mean number of hours slept last night was 6 hours and 48 minutes (6.8 hours). The standard deviation of the sample was 0.9 hours. Is it reasonable to conclude that students at West Virginia sleep less than the typical American?\n"
   ]
  },
  {
   "cell_type": "code",
   "execution_count": 52,
   "id": "b48c192d-229a-4585-a4fe-34d6147eb4d7",
   "metadata": {},
   "outputs": [
    {
     "name": "stdout",
     "output_type": "stream",
     "text": [
      "6.586552747031028 7.013447252968971\n",
      "we reject null hypothesis\n"
     ]
    }
   ],
   "source": [
    "n = 50\n",
    "population_mean = 7\n",
    "sample_mean = 6.8\n",
    "std_sample_mean = 0.9\n",
    "significance_level = 0.05\n",
    "\n",
    "degree_of_freedom = n - 1\n",
    "\n",
    "# Given t-score (assuming from t-table for the confidence level)\n",
    "t_score = 1.677 # Iam using t-test here as the Population standard deviation (σ) is unknown.\n",
    "\n",
    "# Correct formula for confidence interval bounds\n",
    "upper_bound = sample_mean + t_score * (std_sample_mean / np.sqrt(n))\n",
    "lower_bound = sample_mean - t_score * (std_sample_mean / np.sqrt(n))\n",
    "\n",
    "print(lower_bound, upper_bound)\n",
    "if upper_bound > sample_mean:\n",
    "    print(\"we reject null hypothesis\")\n",
    "else:\n",
    "    print(\"we accept null hypothesis\")\n"
   ]
  },
  {
   "cell_type": "raw",
   "id": "0048217f-2886-4100-8fff-187fc8b393cf",
   "metadata": {},
   "source": [
    "Question 4\n",
    "\n",
    "As part of a study of corporate employees, the director of human resources for PNC Inc. wants to compare the distance traveled to work by employees at its office in downtown Cincinnati with the distance for those in downtown Pittsburgh. A sample of 35 Cincinnati employees showed they travel a mean of 370 miles per month. A sample of 40 Pittsburgh employees showed they travel a mean of 380 miles per month. The population standard deviation for the Cincinnati and Pittsburgh employees are 30 and 26 miles, respectively. At the .05 significance level, is there a difference in the mean number of miles traveled per month between Cincinnati and Pittsburgh employees?\n"
   ]
  },
  {
   "cell_type": "code",
   "execution_count": 53,
   "id": "f4834be2-980f-4ab9-a664-d358f39e7130",
   "metadata": {},
   "outputs": [
    {
     "name": "stdout",
     "output_type": "stream",
     "text": [
      "Computed Z-score: 1.5319\n",
      "Critical Z-value: ±1.9600\n",
      "We accept (fail to reject) the null hypothesis: No significant difference.\n"
     ]
    }
   ],
   "source": [
    "# H0: µGroup 1  =  µGroup 2 \n",
    "# H1: µGroup 1  ≠  µGroup 2\n",
    "\n",
    "# Given data\n",
    "Cincinnati_n = 35\n",
    "Cincinnati_sample_mean = 370\n",
    "Pittsburgh_n = 40\n",
    "Pittsburgh_sample_mean = 380\n",
    "Cincinnati_std = 30\n",
    "Pittsburgh_std = 26\n",
    "significance_level = 0.05\n",
    "\n",
    "# Compute Z-score\n",
    "z_score_of_2_sample_z_test = (Pittsburgh_sample_mean - Cincinnati_sample_mean) / np.sqrt(\n",
    "    (Cincinnati_std ** 2 / Cincinnati_n) + (Pittsburgh_std ** 2 / Pittsburgh_n)\n",
    ")\n",
    "print(f\"Computed Z-score: {z_score_of_2_sample_z_test:.4f}\")\n",
    "\n",
    "# Compute critical Z-value for two-tailed test\n",
    "z_critical = norm.ppf(1 - (significance_level / 2))\n",
    "print(f\"Critical Z-value: ±{z_critical:.4f}\")\n",
    "\n",
    "# Hypothesis testing decision\n",
    "if abs(z_score_of_2_sample_z_test) > z_critical:\n",
    "    print(\"We reject the null hypothesis: There is a significant difference.\")\n",
    "else:\n",
    "    print(\"We accept (fail to reject) the null hypothesis: No significant difference.\")"
   ]
  },
  {
   "cell_type": "code",
   "execution_count": null,
   "id": "119b5683-3f11-4a7c-a235-a113c5c8b6e2",
   "metadata": {},
   "outputs": [],
   "source": []
  }
 ],
 "metadata": {
  "kernelspec": {
   "display_name": "Python [conda env:base] *",
   "language": "python",
   "name": "conda-base-py"
  },
  "language_info": {
   "codemirror_mode": {
    "name": "ipython",
    "version": 3
   },
   "file_extension": ".py",
   "mimetype": "text/x-python",
   "name": "python",
   "nbconvert_exporter": "python",
   "pygments_lexer": "ipython3",
   "version": "3.12.7"
  }
 },
 "nbformat": 4,
 "nbformat_minor": 5
}
