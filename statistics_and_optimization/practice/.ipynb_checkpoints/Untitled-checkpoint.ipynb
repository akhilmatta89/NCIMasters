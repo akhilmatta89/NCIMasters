{
 "cells": [
  {
   "cell_type": "markdown",
   "id": "f8494642-5533-4771-8333-886d14b0853e",
   "metadata": {},
   "source": [
    "## Variance and Standard Deviation"
   ]
  },
  {
   "cell_type": "code",
   "execution_count": 2,
   "id": "ed4f022c-813b-477e-bf8c-10c0fa2b7f12",
   "metadata": {},
   "outputs": [],
   "source": [
    "import numpy as np\n",
    "import pandas as pd"
   ]
  },
  {
   "cell_type": "code",
   "execution_count": 6,
   "id": "d36e7db9-2359-4a80-9fbb-93d91ecd7da0",
   "metadata": {},
   "outputs": [],
   "source": [
    "Alice = np.array([4, 5, 6, 5, 5, 4, 6])\n",
    "Bob = np.array([2, 10, 5, 8, 1, 3, 9])"
   ]
  },
  {
   "cell_type": "code",
   "execution_count": 20,
   "id": "b3785a41-5dcc-4dcf-bfbb-fb976a35dee2",
   "metadata": {},
   "outputs": [
    {
     "name": "stdout",
     "output_type": "stream",
     "text": [
      "5.0\n",
      "0.5714285714285714\n",
      "5.428571428571429\n",
      "11.10204081632653\n",
      "0.7559289460184544\n",
      "3.3319725113401715\n"
     ]
    }
   ],
   "source": [
    "print(np.mean(Alice))\n",
    "# Alice’s variance is small (small squared differences from the mean), meaning her walking distances are consistent.\n",
    "print(np.var(Alice))\n",
    "print(np.mean(Bob))\n",
    "# Bob’s variance is large, meaning he has big variations in his walking routine.\n",
    "print(np.var(Bob))\n",
    "\n",
    "# If Alice’s standard deviation is 1 km, it means on most days, she walks about 1 km away from her average distance.\n",
    "print(np.std(Alice))\n",
    "# If Bob’s standard deviation is 4 km, it means he walks around 4 km more or less than his average on any given day.\n",
    "print(np.std(Bob))"
   ]
  },
  {
   "cell_type": "code",
   "execution_count": null,
   "id": "f8a5b6cb-fbb5-4c70-ab5f-10bca073207b",
   "metadata": {},
   "outputs": [],
   "source": []
  }
 ],
 "metadata": {
  "kernelspec": {
   "display_name": "Python [conda env:base] *",
   "language": "python",
   "name": "conda-base-py"
  },
  "language_info": {
   "codemirror_mode": {
    "name": "ipython",
    "version": 3
   },
   "file_extension": ".py",
   "mimetype": "text/x-python",
   "name": "python",
   "nbconvert_exporter": "python",
   "pygments_lexer": "ipython3",
   "version": "3.12.7"
  }
 },
 "nbformat": 4,
 "nbformat_minor": 5
}
